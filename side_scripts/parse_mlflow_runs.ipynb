{
 "cells": [
  {
   "cell_type": "code",
   "execution_count": 1,
   "metadata": {
    "collapsed": true,
    "pycharm": {
     "is_executing": false
    }
   },
   "outputs": [],
   "source": [
    "import pandas as pd\n",
    "import mlflow\n",
    "import mlflow.tracking as tracking"
   ]
  },
  {
   "cell_type": "code",
   "execution_count": 2,
   "outputs": [],
   "source": [
    "client = tracking.MlflowClient()\n",
    "\n",
    "l = client.list_experiments()\n",
    "exp_ids = {_.name:_.experiment_id for _ in l}"
   ],
   "metadata": {
    "collapsed": false,
    "pycharm": {
     "name": "#%%\n",
     "is_executing": false
    }
   }
  },
  {
   "cell_type": "code",
   "execution_count": 7,
   "outputs": [],
   "source": [
    "r = mlflow.search_runs(exp_ids['ER'])"
   ],
   "metadata": {
    "collapsed": false,
    "pycharm": {
     "name": "#%%\n",
     "is_executing": false
    }
   }
  },
  {
   "cell_type": "code",
   "execution_count": 13,
   "outputs": [],
   "source": [
    "runs = r.loc[r['status'] == 'FINISHED']\n"
   ],
   "metadata": {
    "collapsed": false,
    "pycharm": {
     "name": "#%%\n",
     "is_executing": false
    }
   }
  },
  {
   "cell_type": "code",
   "execution_count": 10,
   "outputs": [
    {
     "name": "stdout",
     "text": [
      "<class 'pandas.core.frame.DataFrame'>\nInt64Index: 435 entries, 0 to 664\nData columns (total 41 columns):\n #   Column                          Non-Null Count  Dtype  \n---  ------                          --------------  -----  \n 0   run_id                          435 non-null    object \n 1   experiment_id                   435 non-null    object \n 2   status                          435 non-null    object \n 3   artifact_uri                    435 non-null    object \n 4   metrics.ER_f                    351 non-null    float64\n 5   metrics.ER_r                    351 non-null    float64\n 6   metrics.ER_p                    351 non-null    float64\n 7   metrics.time_graph              210 non-null    float64\n 8   metrics.generated_walks         207 non-null    float64\n 9   metrics.time_embeddings         214 non-null    float64\n 10  metrics.time_walks              223 non-null    float64\n 11  metrics.FPR                     145 non-null    float64\n 12  metrics.n_walks                 16 non-null     float64\n 13  params.window_size              235 non-null    object \n 14  params.backtrack                201 non-null    object \n 15  params.with_rid                 235 non-null    object \n 16  params.intersection             6 non-null      object \n 17  params.n_sentences              235 non-null    object \n 18  params.smoothing_method         203 non-null    object \n 19  params.learning_method          242 non-null    object \n 20  params.run_name                 346 non-null    object \n 21  params.smoothing_parameters     132 non-null    object \n 22  params.input_file               270 non-null    object \n 23  params.strategy                 242 non-null    object \n 24  params.sentence_length          219 non-null    object \n 25  params.numeric                  242 non-null    object \n 26  params.flatten                  6 non-null      object \n 27  params.with_cid                 235 non-null    object \n 28  params.n_dimensions             235 non-null    object \n 29  params.strategy_numeric_values  219 non-null    object \n 30  params.ntop                     355 non-null    object \n 31  params.embeddings_file          196 non-null    object \n 32  params.indexing                 76 non-null     object \n 33  params.output_file              23 non-null     object \n 34  params.max_sentence_length      16 non-null     object \n 35  tags.run-tag                    219 non-null    object \n 36  tags.input_file                 23 non-null     object \n 37  tags.mlflow.source.git.commit   88 non-null     object \n 38  tags.mlflow.source.name         88 non-null     object \n 39  tags.mlflow.user                88 non-null     object \n 40  tags.mlflow.source.type         88 non-null     object \ndtypes: float64(9), object(32)\nmemory usage: 142.7+ KB\n"
     ],
     "output_type": "stream"
    }
   ],
   "source": [
    "runs.info()"
   ],
   "metadata": {
    "collapsed": false,
    "pycharm": {
     "name": "#%%\n",
     "is_executing": false
    }
   }
  },
  {
   "cell_type": "code",
   "execution_count": 20,
   "outputs": [],
   "source": [
    "cols_to_drop = [\n",
    "    'artifact_uri',\n",
    "    'metrics.FPR',\n",
    "    'tags.mlflow.source.git.commit',\n",
    "    'tags.mlflow.source.name',\n",
    "    'tags.mlflow.user',\n",
    "    'tags.mlflow.source.type',\n",
    "    'run_id',\n",
    "    'experiment_id',\n",
    "    'status',\n",
    "    'tags.run-tag',\n",
    "    'tags.input_file'\n",
    "    \n",
    "]\n",
    "runs_c = runs.drop(cols_to_drop, axis=1)"
   ],
   "metadata": {
    "collapsed": false,
    "pycharm": {
     "name": "#%%\n",
     "is_executing": false
    }
   }
  },
  {
   "cell_type": "code",
   "execution_count": 21,
   "outputs": [
    {
     "data": {
      "text/plain": "     metrics.ER_f  metrics.ER_r  metrics.ER_p  metrics.time_graph  \\\n3        0.186667      0.102941      1.000000                 NaN   \n4        0.415842      0.308824      0.636364                 NaN   \n5        0.822581      0.750000      0.910714                 NaN   \n6        0.500000      0.367647      0.781250                 NaN   \n7        0.109589      0.058824      0.800000                 NaN   \n..            ...           ...           ...                 ...   \n660      0.920152      0.924910      0.915443                 NaN   \n661      0.916406      0.921763      0.911111                 NaN   \n662      0.916406      0.921763      0.911111                 NaN   \n663      0.890382      0.933431      0.851130                 NaN   \n664      0.875087      0.917396      0.836509                 NaN   \n\n     metrics.generated_walks  metrics.time_embeddings  metrics.time_walks  \\\n3                        NaN                      NaN                 NaN   \n4                        NaN                      NaN                 NaN   \n5                        NaN                      NaN                 NaN   \n6                        NaN                      NaN                 NaN   \n7                        NaN                      NaN                 NaN   \n..                       ...                      ...                 ...   \n660                      NaN                 434342.0            778352.0   \n661                      NaN                  35079.0            194871.0   \n662                      NaN                 877138.0            688100.0   \n663                      NaN                 713390.0            627732.0   \n664                      NaN                 642737.0            152019.0   \n\n     metrics.n_walks params.window_size params.backtrack  ... params.numeric  \\\n3                NaN               None             None  ...           None   \n4                NaN               None             None  ...           None   \n5                NaN               None             None  ...           None   \n6                NaN               None             None  ...           None   \n7                NaN               None             None  ...           None   \n..               ...                ...              ...  ...            ...   \n660        2833442.0                  3             None  ...             no   \n661        2833442.0                  3             None  ...             no   \n662        2833442.0                  3             None  ...             no   \n663        2834700.0                  3             None  ...             no   \n664        2836900.0                  3             None  ...             no   \n\n    params.flatten params.with_cid params.n_dimensions  \\\n3             None            None                None   \n4             None            None                None   \n5             None            None                None   \n6             None            None                None   \n7             None            None                None   \n..             ...             ...                 ...   \n660           None             all                 300   \n661           None             all                 300   \n662           None             all                 300   \n663           None             all                 300   \n664           None             all                 300   \n\n    params.strategy_numeric_values params.ntop  \\\n3                             None           1   \n4                             None           1   \n5                             None           1   \n6                             None           1   \n7                             None           1   \n..                             ...         ...   \n660                           None          10   \n661                           None          10   \n662                           None          10   \n663                           None          10   \n664                           None          10   \n\n                                params.embeddings_file params.indexing  \\\n3    pipeline/embeddings/beer-tokenized-noflatten-n...           basic   \n4    pipeline/embeddings/beer-tokenized-noflatten-i...           basic   \n5    pipeline/embeddings/beer-tokenized-flatten-noi...           basic   \n6    pipeline/embeddings/beer-tokenized-flatten-int...           basic   \n7    pipeline/embeddings/beer-master-ER-flatten-tes...           basic   \n..                                                 ...             ...   \n660                                               None            None   \n661                                               None            None   \n662                                               None            None   \n663                                               None            None   \n664                                               None            None   \n\n                                   params.output_file  \\\n3                                                None   \n4                                                None   \n5                                                None   \n6                                                None   \n7                                                None   \n..                                                ...   \n660    pipeline/embeddings/dblp-ER-aligned-golden.emb   \n661    pipeline/embeddings/dblp-ER-aligned-golden.emb   \n662    pipeline/embeddings/dblp-ER-aligned-golden.emb   \n663  pipeline/embeddings/movies-ER-aligned-golden.emb   \n664          pipeline/embeddings/movies-ER-golden.emb   \n\n    params.max_sentence_length  \n3                         None  \n4                         None  \n5                         None  \n6                         None  \n7                         None  \n..                         ...  \n660                         60  \n661                         60  \n662                         60  \n663                         60  \n664                         60  \n\n[351 rows x 30 columns]",
      "text/html": "<div>\n<style scoped>\n    .dataframe tbody tr th:only-of-type {\n        vertical-align: middle;\n    }\n\n    .dataframe tbody tr th {\n        vertical-align: top;\n    }\n\n    .dataframe thead th {\n        text-align: right;\n    }\n</style>\n<table border=\"1\" class=\"dataframe\">\n  <thead>\n    <tr style=\"text-align: right;\">\n      <th></th>\n      <th>metrics.ER_f</th>\n      <th>metrics.ER_r</th>\n      <th>metrics.ER_p</th>\n      <th>metrics.time_graph</th>\n      <th>metrics.generated_walks</th>\n      <th>metrics.time_embeddings</th>\n      <th>metrics.time_walks</th>\n      <th>metrics.n_walks</th>\n      <th>params.window_size</th>\n      <th>params.backtrack</th>\n      <th>...</th>\n      <th>params.numeric</th>\n      <th>params.flatten</th>\n      <th>params.with_cid</th>\n      <th>params.n_dimensions</th>\n      <th>params.strategy_numeric_values</th>\n      <th>params.ntop</th>\n      <th>params.embeddings_file</th>\n      <th>params.indexing</th>\n      <th>params.output_file</th>\n      <th>params.max_sentence_length</th>\n    </tr>\n  </thead>\n  <tbody>\n    <tr>\n      <th>3</th>\n      <td>0.186667</td>\n      <td>0.102941</td>\n      <td>1.000000</td>\n      <td>NaN</td>\n      <td>NaN</td>\n      <td>NaN</td>\n      <td>NaN</td>\n      <td>NaN</td>\n      <td>None</td>\n      <td>None</td>\n      <td>...</td>\n      <td>None</td>\n      <td>None</td>\n      <td>None</td>\n      <td>None</td>\n      <td>None</td>\n      <td>1</td>\n      <td>pipeline/embeddings/beer-tokenized-noflatten-n...</td>\n      <td>basic</td>\n      <td>None</td>\n      <td>None</td>\n    </tr>\n    <tr>\n      <th>4</th>\n      <td>0.415842</td>\n      <td>0.308824</td>\n      <td>0.636364</td>\n      <td>NaN</td>\n      <td>NaN</td>\n      <td>NaN</td>\n      <td>NaN</td>\n      <td>NaN</td>\n      <td>None</td>\n      <td>None</td>\n      <td>...</td>\n      <td>None</td>\n      <td>None</td>\n      <td>None</td>\n      <td>None</td>\n      <td>None</td>\n      <td>1</td>\n      <td>pipeline/embeddings/beer-tokenized-noflatten-i...</td>\n      <td>basic</td>\n      <td>None</td>\n      <td>None</td>\n    </tr>\n    <tr>\n      <th>5</th>\n      <td>0.822581</td>\n      <td>0.750000</td>\n      <td>0.910714</td>\n      <td>NaN</td>\n      <td>NaN</td>\n      <td>NaN</td>\n      <td>NaN</td>\n      <td>NaN</td>\n      <td>None</td>\n      <td>None</td>\n      <td>...</td>\n      <td>None</td>\n      <td>None</td>\n      <td>None</td>\n      <td>None</td>\n      <td>None</td>\n      <td>1</td>\n      <td>pipeline/embeddings/beer-tokenized-flatten-noi...</td>\n      <td>basic</td>\n      <td>None</td>\n      <td>None</td>\n    </tr>\n    <tr>\n      <th>6</th>\n      <td>0.500000</td>\n      <td>0.367647</td>\n      <td>0.781250</td>\n      <td>NaN</td>\n      <td>NaN</td>\n      <td>NaN</td>\n      <td>NaN</td>\n      <td>NaN</td>\n      <td>None</td>\n      <td>None</td>\n      <td>...</td>\n      <td>None</td>\n      <td>None</td>\n      <td>None</td>\n      <td>None</td>\n      <td>None</td>\n      <td>1</td>\n      <td>pipeline/embeddings/beer-tokenized-flatten-int...</td>\n      <td>basic</td>\n      <td>None</td>\n      <td>None</td>\n    </tr>\n    <tr>\n      <th>7</th>\n      <td>0.109589</td>\n      <td>0.058824</td>\n      <td>0.800000</td>\n      <td>NaN</td>\n      <td>NaN</td>\n      <td>NaN</td>\n      <td>NaN</td>\n      <td>NaN</td>\n      <td>None</td>\n      <td>None</td>\n      <td>...</td>\n      <td>None</td>\n      <td>None</td>\n      <td>None</td>\n      <td>None</td>\n      <td>None</td>\n      <td>1</td>\n      <td>pipeline/embeddings/beer-master-ER-flatten-tes...</td>\n      <td>basic</td>\n      <td>None</td>\n      <td>None</td>\n    </tr>\n    <tr>\n      <th>...</th>\n      <td>...</td>\n      <td>...</td>\n      <td>...</td>\n      <td>...</td>\n      <td>...</td>\n      <td>...</td>\n      <td>...</td>\n      <td>...</td>\n      <td>...</td>\n      <td>...</td>\n      <td>...</td>\n      <td>...</td>\n      <td>...</td>\n      <td>...</td>\n      <td>...</td>\n      <td>...</td>\n      <td>...</td>\n      <td>...</td>\n      <td>...</td>\n      <td>...</td>\n      <td>...</td>\n    </tr>\n    <tr>\n      <th>660</th>\n      <td>0.920152</td>\n      <td>0.924910</td>\n      <td>0.915443</td>\n      <td>NaN</td>\n      <td>NaN</td>\n      <td>434342.0</td>\n      <td>778352.0</td>\n      <td>2833442.0</td>\n      <td>3</td>\n      <td>None</td>\n      <td>...</td>\n      <td>no</td>\n      <td>None</td>\n      <td>all</td>\n      <td>300</td>\n      <td>None</td>\n      <td>10</td>\n      <td>None</td>\n      <td>None</td>\n      <td>pipeline/embeddings/dblp-ER-aligned-golden.emb</td>\n      <td>60</td>\n    </tr>\n    <tr>\n      <th>661</th>\n      <td>0.916406</td>\n      <td>0.921763</td>\n      <td>0.911111</td>\n      <td>NaN</td>\n      <td>NaN</td>\n      <td>35079.0</td>\n      <td>194871.0</td>\n      <td>2833442.0</td>\n      <td>3</td>\n      <td>None</td>\n      <td>...</td>\n      <td>no</td>\n      <td>None</td>\n      <td>all</td>\n      <td>300</td>\n      <td>None</td>\n      <td>10</td>\n      <td>None</td>\n      <td>None</td>\n      <td>pipeline/embeddings/dblp-ER-aligned-golden.emb</td>\n      <td>60</td>\n    </tr>\n    <tr>\n      <th>662</th>\n      <td>0.916406</td>\n      <td>0.921763</td>\n      <td>0.911111</td>\n      <td>NaN</td>\n      <td>NaN</td>\n      <td>877138.0</td>\n      <td>688100.0</td>\n      <td>2833442.0</td>\n      <td>3</td>\n      <td>None</td>\n      <td>...</td>\n      <td>no</td>\n      <td>None</td>\n      <td>all</td>\n      <td>300</td>\n      <td>None</td>\n      <td>10</td>\n      <td>None</td>\n      <td>None</td>\n      <td>pipeline/embeddings/dblp-ER-aligned-golden.emb</td>\n      <td>60</td>\n    </tr>\n    <tr>\n      <th>663</th>\n      <td>0.890382</td>\n      <td>0.933431</td>\n      <td>0.851130</td>\n      <td>NaN</td>\n      <td>NaN</td>\n      <td>713390.0</td>\n      <td>627732.0</td>\n      <td>2834700.0</td>\n      <td>3</td>\n      <td>None</td>\n      <td>...</td>\n      <td>no</td>\n      <td>None</td>\n      <td>all</td>\n      <td>300</td>\n      <td>None</td>\n      <td>10</td>\n      <td>None</td>\n      <td>None</td>\n      <td>pipeline/embeddings/movies-ER-aligned-golden.emb</td>\n      <td>60</td>\n    </tr>\n    <tr>\n      <th>664</th>\n      <td>0.875087</td>\n      <td>0.917396</td>\n      <td>0.836509</td>\n      <td>NaN</td>\n      <td>NaN</td>\n      <td>642737.0</td>\n      <td>152019.0</td>\n      <td>2836900.0</td>\n      <td>3</td>\n      <td>None</td>\n      <td>...</td>\n      <td>no</td>\n      <td>None</td>\n      <td>all</td>\n      <td>300</td>\n      <td>None</td>\n      <td>10</td>\n      <td>None</td>\n      <td>None</td>\n      <td>pipeline/embeddings/movies-ER-golden.emb</td>\n      <td>60</td>\n    </tr>\n  </tbody>\n</table>\n<p>351 rows × 30 columns</p>\n</div>"
     },
     "metadata": {},
     "output_type": "execute_result",
     "execution_count": 21
    }
   ],
   "source": [
    "runs_c.dropna(subset=['metrics.ER_f'])"
   ],
   "metadata": {
    "collapsed": false,
    "pycharm": {
     "name": "#%%\n",
     "is_executing": false
    }
   }
  },
  {
   "cell_type": "code",
   "execution_count": null,
   "outputs": [],
   "source": [
    "\n"
   ],
   "metadata": {
    "collapsed": false,
    "pycharm": {
     "name": "#%%\n"
    }
   }
  }
 ],
 "metadata": {
  "language_info": {
   "codemirror_mode": {
    "name": "ipython",
    "version": 2
   },
   "file_extension": ".py",
   "mimetype": "text/x-python",
   "name": "python",
   "nbconvert_exporter": "python",
   "pygments_lexer": "ipython2",
   "version": "2.7.6"
  },
  "kernelspec": {
   "name": "pycharm-f75c726a",
   "language": "python",
   "display_name": "PyCharm (EmbDI)"
  },
  "pycharm": {
   "stem_cell": {
    "cell_type": "raw",
    "source": [],
    "metadata": {
     "collapsed": false
    }
   }
  }
 },
 "nbformat": 4,
 "nbformat_minor": 0
}