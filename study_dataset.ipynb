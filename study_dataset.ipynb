{
 "cells": [
  {
   "cell_type": "code",
   "execution_count": 1,
   "metadata": {
    "pycharm": {
     "is_executing": false
    }
   },
   "outputs": [],
   "source": [
    "import pandas as pd\n",
    "import numpy as np\n",
    "import os\n",
    "import matplotlib.pyplot as plt\n",
    "from collections import Counter\n",
    "import scipy.stats as stats\n",
    "import random\n",
    "import os\n",
    "import math\n",
    "import networkx as nx\n",
    "from EmbDI.graph import Graph\n",
    "from EmbDI.utils import *"
   ]
  },
  {
   "cell_type": "code",
   "execution_count": 41,
   "metadata": {},
   "outputs": [],
   "source": [
    "import csv"
   ]
  },
  {
   "cell_type": "code",
   "execution_count": 74,
   "metadata": {},
   "outputs": [],
   "source": [
    "class StudyUnit:\n",
    "    def __init__(self, dataset_name, prefixes=['3#__tn', '3$__tt','5$__idx', '1$__cid']):\n",
    "        path_df = str('pipeline/datasets/{}/{}-master.csv'.format(dataset_name, dataset_name))\n",
    "        self.df = pd.read_csv(path_df, dtype=str)\n",
    "\n",
    "        dataset_info = 'pipeline/info/info-{}.txt'.format(dataset_name)\n",
    "        with open(dataset_info, 'r') as fp:\n",
    "            n_items = {}\n",
    "            for idx, line in enumerate(fp):\n",
    "                k, v = line.split(',')\n",
    "                n_items[idx] = int(v)\n",
    "\n",
    "        match_file = 'pipeline/matches/matches-{}.txt'.format(dataset_name)\n",
    "\n",
    "        with open(match_file, 'r') as fp:\n",
    "            for ix, line in enumerate(fp):\n",
    "                pass\n",
    "            self.matching_lines = ix\n",
    "        self.df1 = self.df[:n_items[0]]\n",
    "        self.df2 = self.df[n_items[0]:]\n",
    "        counts = Counter(self.df.values.ravel())\n",
    "        if np.nan in counts:\n",
    "            counts.pop(np.nan)\n",
    "\n",
    "        self.uniq_df1 = set(self.df1.values.ravel().tolist())\n",
    "        self.uniq_df2 = set(self.df2.values.ravel().tolist())\n",
    "        self.uniq_complete = self.uniq_df1.union(self.uniq_df2)\n",
    "        self.intersection = self.uniq_df1.intersection(self.uniq_df2)\n",
    "        self.ov_col = [_ for _ in self.df1.columns if _ in self.df2.columns]\n",
    "        \n",
    "        self.build_graph(dataset_name)\n",
    "        \n",
    "#         with open(edgelist_file, 'r') as fp:\n",
    "#             for idx, line in enumerate(fp):\n",
    "#                 split = line.split(',')\n",
    "#                 if len(split) < 2:\n",
    "#                     continue\n",
    "#                 n1, n2 = split[:2]\n",
    "#                 self.graph.add_edge(n1,n2)\n",
    "\n",
    "    def build_graph(self, dataset_name):\n",
    "        edgelist_file = 'pipeline/edgelists/{}-edgelist.txt'.format(dataset_name)\n",
    "\n",
    "        prefixes, edgelist = read_edgelist(edgelist_file)\n",
    "        \n",
    "        g = Graph(edgelist, prefixes=prefixes, flatten=['tt'])\n",
    "\n",
    "        self.nxg = g.convert_to_nx()\n",
    "\n",
    "    \n",
    "    def edges_by_node(self):\n",
    "        ebn = {}\n",
    "        for node in self.nxg.nodes():\n",
    "            if node.startswith('idx__') or node.startswith('cid__'):\n",
    "                continue\n",
    "            ebn[node] = len(self.nxg.edges(node))\n",
    "        return ebn\n",
    "        \n",
    "    def get_basic_info(self):\n",
    "        info = [\n",
    "            len(self.df),\n",
    "            len(self.df.columns),\n",
    "            self.matching_lines,\n",
    "            len(self.ov_col),\n",
    "            len(self.intersection),\n",
    "            100 * (len(self.intersection) / len(self.uniq_complete))\n",
    "        ]\n",
    "        return info\n",
    "\n",
    "    def get_graph_info(self):\n",
    "        ebn = self.edges_by_node()\n",
    "        v1 = sorted([ebn[_] for _ in ebn], reverse=True)\n",
    "        v2 = [0]*1 + v1\n",
    "        v1 = np.array(v1)\n",
    "        v2 = np.array(v2)\n",
    "        \n",
    "        info = []\n",
    "        \n",
    "\n",
    "        info = []\n",
    "        \n",
    "        total_nodes = len(v1)\n",
    "        avg = np.average(v1)\n",
    "        sumdeg = np.sum(v1)\n",
    "        maxdeg = max(v1)\n",
    "        perc = np.percentile(v1, 99)\n",
    "        aboveperc = v1[v1>perc]\n",
    "        edgesaboveperc = sum(aboveperc)\n",
    "        avg_deg_above_perc = np.average(aboveperc)\n",
    "        \n",
    "        info.append(total_nodes)\n",
    "        info.append(avg)\n",
    "        info.append(sumdeg)\n",
    "        info.append(maxdeg)\n",
    "        info.append(perc)\n",
    "        info.append(len(aboveperc))\n",
    "        info.append(edgesaboveperc)\n",
    "        info.append(edgesaboveperc/sumdeg*100)\n",
    "        info.append(avg_deg_above_perc)\n",
    "\n",
    "        return info\n",
    "\n",
    "    \n",
    "    def print_basic_info(self):\n",
    "        print('Overall number of lines: {}'.format(len(self.df)))\n",
    "        print('Overall number of columns: {}'.format(len(self.df.columns)))\n",
    "        print('Overall distinct values: {}'.format(len(self.uniq_complete)))\n",
    "        print('Values in Ground Truth: {}'.format(self.matching_lines))\n",
    "        print('Overlapping columns: {}'.format(len(self.ov_col)))\n",
    "        print('Overlapping values: {}'.format(len(self.intersection)))\n",
    "        print('Unique elements in dataset 1: {}'.format(len(self.uniq_df1)))\n",
    "        print('Unique elements in dataset 2: {}'.format(len(self.uniq_df2)))\n",
    "        print('Values in common between dataset 1 and dataset 2: {}'.format(len(self.intersection)))\n",
    "        print('Fraction of values in common: {:.2f}%'.format(100 * (len(self.intersection) / len(self.uniq_complete))))\n",
    "        print('{:30}{:20}'.format('Dataset 1 Rows:', len(self.df1)))\n",
    "        print('{:30}{:20}'.format('Dataset 1 Columns:', len(self.df1.columns)))\n",
    "        print('{:30}{:20}'.format('Dataset 2 Rows:', len(self.df2)))\n",
    "        print('{:30}{:20}'.format('Dataset 2 Columns:', len(self.df2.columns)))\n",
    "        print('{:30}{:20}'.format('Combined Dataset Rows:', len(self.df)))\n",
    "        print('{:30}{:20}'.format('Combined Dataset Columns:', len(self.df.columns)))\n",
    "      \n",
    "    \n",
    "    def print_graph_info(self):\n",
    "        print(nx.info(self.nxg))\n",
    "        ebn = self.edges_by_node()\n",
    "        v1 = sorted([ebn[_] for _ in ebn], reverse=True)\n",
    "        v2 = [0]*1 + v1\n",
    "        v1 = np.array(v1)\n",
    "        v2 = np.array(v2)\n",
    "        \n",
    "        info = []\n",
    "        \n",
    "        total_nodes = len(v1)\n",
    "        avg = np.average(v1)\n",
    "        sumdeg = np.sum(v1)\n",
    "        maxdeg = max(v1)\n",
    "        perc = np.percentile(v1, 99)\n",
    "        aboveperc = v1[v1>perc]\n",
    "        edgesaboveperc = sum(aboveperc)\n",
    "        avg_deg_above_perc = np.average(aboveperc)\n",
    "                \n",
    "        print('Total nodes: {}'.format(total_nodes))\n",
    "        print('Average degree: {:.2f}'.format(avg))\n",
    "        print('Total rid edges: {}'.format(sumdeg))\n",
    "        print('Max degree: {}'.format(maxdeg))\n",
    "        print('99-th percentile: {:.2f}'.format(perc))\n",
    "        print('99-th perc/n edges: {:.4f}%'.format(perc/sumdeg*100))\n",
    "        print('Nodes above 99-th perc: {}'.format(len(aboveperc)))\n",
    "        print('Edges above 99th perc: {}'.format(edgesaboveperc))\n",
    "        print('Frac above perc: {:.2f}'.format(edgesaboveperc/sumdeg*100))\n",
    "        print('Average degree above perc: {:.2f}'.format(avg_deg_above_perc))\n",
    "\n",
    "        \n",
    "#         norm_v1 = normalize(v2)\n",
    "#         fig = plt.figure(figsize=(10,8))\n",
    "#         ax = fig.gca()\n",
    "#         plt.semilogx(norm_v1, label='normalized frequencies', ls=':')\n"
   ]
  },
  {
   "cell_type": "code",
   "execution_count": 77,
   "metadata": {},
   "outputs": [
    {
     "name": "stderr",
     "output_type": "stream",
     "text": [
      "Loading edgelist_file.:  14%|█▍        | 2957/21396 [00:00<00:00, 29565.59it/s]"
     ]
    },
    {
     "name": "stdout",
     "output_type": "stream",
     "text": [
      "amazon_google\n",
      "# Expanding columns ['tt'].\n"
     ]
    },
    {
     "name": "stderr",
     "output_type": "stream",
     "text": [
      "Loading edgelist_file.: 100%|██████████| 21396/21396 [00:00<00:00, 38886.87it/s]\n",
      "Prepare aliased randomizer for each node: 100%|██████████| 15509/15509 [00:00<00:00, 57363.14it/s]\n"
     ]
    },
    {
     "name": "stdout",
     "output_type": "stream",
     "text": [
      "\n",
      "walmart_amazon\n"
     ]
    },
    {
     "name": "stderr",
     "output_type": "stream",
     "text": [
      "Loading edgelist_file.:   2%|▏         | 3439/224838 [00:00<00:06, 34382.41it/s]"
     ]
    },
    {
     "name": "stdout",
     "output_type": "stream",
     "text": [
      "# Expanding columns ['tt'].\n"
     ]
    },
    {
     "name": "stderr",
     "output_type": "stream",
     "text": [
      "Loading edgelist_file.: 100%|██████████| 224838/224838 [00:11<00:00, 20166.42it/s]\n",
      "Prepare aliased randomizer for each node: 100%|██████████| 95569/95569 [00:05<00:00, 18009.90it/s]\n"
     ]
    },
    {
     "name": "stdout",
     "output_type": "stream",
     "text": [
      "\n",
      "itunes_amazon\n"
     ]
    },
    {
     "name": "stderr",
     "output_type": "stream",
     "text": [
      "Loading edgelist_file.:   1%|          | 5772/990136 [00:00<00:17, 57709.60it/s]"
     ]
    },
    {
     "name": "stdout",
     "output_type": "stream",
     "text": [
      "# Expanding columns ['tt'].\n"
     ]
    },
    {
     "name": "stderr",
     "output_type": "stream",
     "text": [
      "Loading edgelist_file.: 100%|██████████| 990136/990136 [00:25<00:00, 39080.40it/s]\n",
      "Prepare aliased randomizer for each node: 100%|██████████| 135400/135400 [00:07<00:00, 18151.51it/s]\n"
     ]
    },
    {
     "name": "stdout",
     "output_type": "stream",
     "text": [
      "\n",
      "imdb_movielens\n"
     ]
    },
    {
     "name": "stderr",
     "output_type": "stream",
     "text": [
      "Loading edgelist_file.:   0%|          | 0/1214420 [00:00<?, ?it/s]"
     ]
    },
    {
     "name": "stdout",
     "output_type": "stream",
     "text": [
      "# Expanding columns ['tt'].\n"
     ]
    },
    {
     "name": "stderr",
     "output_type": "stream",
     "text": [
      "Loading edgelist_file.: 100%|██████████| 1214420/1214420 [00:30<00:00, 40408.37it/s]\n",
      "Prepare aliased randomizer for each node: 100%|██████████| 228108/228108 [00:04<00:00, 50626.72it/s]\n"
     ]
    },
    {
     "name": "stdout",
     "output_type": "stream",
     "text": [
      "\n",
      "dblp_scholar\n"
     ]
    },
    {
     "name": "stderr",
     "output_type": "stream",
     "text": [
      "Loading edgelist_file.:   1%|          | 4707/434502 [00:00<00:09, 47058.38it/s]"
     ]
    },
    {
     "name": "stdout",
     "output_type": "stream",
     "text": [
      "# Expanding columns ['tt'].\n"
     ]
    },
    {
     "name": "stderr",
     "output_type": "stream",
     "text": [
      "Loading edgelist_file.: 100%|██████████| 434502/434502 [00:25<00:00, 16834.11it/s]\n",
      "Prepare aliased randomizer for each node: 100%|██████████| 299005/299005 [00:09<00:00, 31258.47it/s]\n"
     ]
    },
    {
     "name": "stdout",
     "output_type": "stream",
     "text": [
      "\n"
     ]
    },
    {
     "name": "stderr",
     "output_type": "stream",
     "text": [
      "Loading edgelist_file.: 100%|██████████| 10366/10366 [00:00<00:00, 69967.05it/s]\n",
      "Prepare aliased randomizer for each node:   0%|          | 0/5804 [00:00<?, ?it/s]"
     ]
    },
    {
     "name": "stdout",
     "output_type": "stream",
     "text": [
      "fodors_zagats\n",
      "# Expanding columns ['tt'].\n"
     ]
    },
    {
     "name": "stderr",
     "output_type": "stream",
     "text": [
      "Prepare aliased randomizer for each node: 100%|██████████| 5804/5804 [00:00<00:00, 69525.34it/s]\n",
      "Loading edgelist_file.:   0%|          | 0/54772 [00:00<?, ?it/s]"
     ]
    },
    {
     "name": "stdout",
     "output_type": "stream",
     "text": [
      "\n",
      "dblp_acm\n",
      "# Expanding columns ['tt'].\n"
     ]
    },
    {
     "name": "stderr",
     "output_type": "stream",
     "text": [
      "Loading edgelist_file.: 100%|██████████| 54772/54772 [00:00<00:00, 57848.58it/s]\n",
      "Prepare aliased randomizer for each node: 100%|██████████| 19730/19730 [00:00<00:00, 52768.13it/s]\n"
     ]
    },
    {
     "name": "stdout",
     "output_type": "stream",
     "text": [
      "\n"
     ]
    },
    {
     "name": "stderr",
     "output_type": "stream",
     "text": [
      "Loading edgelist_file.:  10%|█         | 5721/56956 [00:00<00:00, 57198.87it/s]"
     ]
    },
    {
     "name": "stdout",
     "output_type": "stream",
     "text": [
      "beer\n",
      "# Expanding columns ['tt'].\n"
     ]
    },
    {
     "name": "stderr",
     "output_type": "stream",
     "text": [
      "Loading edgelist_file.: 100%|██████████| 56956/56956 [00:07<00:00, 8120.30it/s] \n",
      "Prepare aliased randomizer for each node: 100%|██████████| 25491/25491 [00:00<00:00, 56024.01it/s]\n"
     ]
    },
    {
     "name": "stdout",
     "output_type": "stream",
     "text": [
      "\n"
     ]
    }
   ],
   "source": [
    "sus = {}\n",
    "for dset in ['amazon_google', 'walmart_amazon', 'itunes_amazon', 'imdb_movielens', 'dblp_scholar', 'fodors_zagats', 'dblp_acm', 'beer']:\n",
    "    print(dset)\n",
    "    su = StudyUnit(dset)\n",
    "    sus[dset] = su\n",
    "#     su.print_basic_info()\n",
    "#     su.print_graph_info()"
   ]
  },
  {
   "cell_type": "code",
   "execution_count": 79,
   "metadata": {},
   "outputs": [],
   "source": [
    "csvfile = open('pipeline/dataset_infodump.csv', 'w')\n",
    "writer = csv.writer(csvfile)\n",
    "header = [\n",
    "    'Dataset name',\n",
    "    'Number lines',\n",
    "    'Number columns',\n",
    "    'Size of ground truth',\n",
    "    'Overlap columns',\n",
    "    'Overlap values',\n",
    "    'Overlap fraction',\n",
    "    'Total nodes',\n",
    "    'Average degree',\n",
    "    'Total edges',\n",
    "    'Max degree',\n",
    "    '99-th percentile',\n",
    "#     '99-th perc/n edges',\n",
    "    'Nodes above 99-th perc',\n",
    "    'Edges above 99th perc',\n",
    "    '% Edges above 99th perc',\n",
    "    'Average degree above perc'\n",
    "]\n",
    "writer.writerow(header)\n",
    "\n",
    "for dset in sus:\n",
    "    line = [dset] + sus[dset].get_basic_info() + sus[dset].get_graph_info()\n",
    "    writer.writerow(line)\n",
    "csvfile.close()"
   ]
  },
  {
   "cell_type": "code",
   "execution_count": 63,
   "metadata": {},
   "outputs": [
    {
     "name": "stderr",
     "output_type": "stream",
     "text": [
      "Loading edgelist_file.:   5%|▌         | 2995/54772 [00:00<00:01, 29943.46it/s]"
     ]
    },
    {
     "name": "stdout",
     "output_type": "stream",
     "text": [
      "# Expanding columns ['tt'].\n"
     ]
    },
    {
     "name": "stderr",
     "output_type": "stream",
     "text": [
      "Loading edgelist_file.: 100%|██████████| 54772/54772 [00:01<00:00, 40086.42it/s]\n",
      "Prepare aliased randomizer for each node: 100%|██████████| 19730/19730 [00:00<00:00, 37395.45it/s]\n"
     ]
    },
    {
     "name": "stdout",
     "output_type": "stream",
     "text": [
      "\n"
     ]
    }
   ],
   "source": [
    "da = StudyUnit('dblp_acm')"
   ]
  },
  {
   "cell_type": "code",
   "execution_count": 64,
   "metadata": {},
   "outputs": [
    {
     "data": {
      "text/plain": [
       "[14814,\n",
       " 8.72492237073039,\n",
       " 129251,\n",
       " 2212,\n",
       " 67.86999999999898,\n",
       " 149,\n",
       " 47336,\n",
       " 317.69127516778525]"
      ]
     },
     "execution_count": 64,
     "metadata": {},
     "output_type": "execute_result"
    }
   ],
   "source": [
    "da.get_graph_info()"
   ]
  },
  {
   "cell_type": "code",
   "execution_count": 17,
   "metadata": {},
   "outputs": [],
   "source": [
    "def normalize(x):\n",
    "    min_x = min(x)\n",
    "    max_x = max(x)\n",
    "    return (x-min_x)/(max_x-min_x)\n"
   ]
  },
  {
   "cell_type": "code",
   "execution_count": 19,
   "metadata": {},
   "outputs": [],
   "source": [
    "ebn = edges_by_node(dblp_acm.nxg)x"
   ]
  },
  {
   "cell_type": "code",
   "execution_count": 24,
   "metadata": {},
   "outputs": [
    {
     "name": "stdout",
     "output_type": "stream",
     "text": [
      "Minimum degree: 2\n",
      "Maximum degree: 2212\n",
      "Average degree: 8.72\n",
      "Total rid edges: 129251\n",
      "0 2212\n"
     ]
    },
    {
     "data": {
      "text/plain": [
       "[<matplotlib.lines.Line2D at 0x7fabc5f1a940>]"
      ]
     },
     "execution_count": 24,
     "metadata": {},
     "output_type": "execute_result"
    },
    {
     "data": {
      "image/png": "[encoded data removed]",
      "text/plain": [
       "<Figure size 720x576 with 1 Axes>"
      ]
     },
     "metadata": {
      "needs_background": "light"
     },
     "output_type": "display_data"
    }
   ],
   "source": [
    "v1 = sorted([ebn[_] for _ in ebn], reverse=True)\n",
    "v2 = [0]*1 + v1\n",
    "\n",
    "print('Minimum degree: {}'.format(min(ebn.values())))\n",
    "print('Maximum degree: {}'.format(max(ebn.values())))\n",
    "\n",
    "v1 = np.array(v1)\n",
    "v2 = np.array(v2)\n",
    "\n",
    "avg = np.average(v1)\n",
    "print('Average degree: {:.2f}'.format(avg))\n",
    "sumdeg = np.sum(v1)\n",
    "print('Total rid edges: {}'.format(sumdeg))\n",
    "\n",
    "norm_v1 = normalize(v2)\n",
    "fig = plt.figure(figsize=(10,8))\n",
    "ax = fig.gca()\n",
    "# plt.loglog(v1)\n",
    "\n",
    "plt.semilogx(norm_v1, label='normalized frequencies', ls=':')\n",
    "\n"
   ]
  },
  {
   "cell_type": "code",
   "execution_count": 27,
   "metadata": {},
   "outputs": [
    {
     "name": "stdout",
     "output_type": "stream",
     "text": [
      "Total nodes: 14814\n",
      "Average degree: 8.72\n",
      "Total rid edges: 129251\n",
      "Max degree: 2212\n",
      "99-th percentile: 67.87\n",
      "99-th perc/n edges: 0.0525%\n",
      "Nodes above 99-th perc: 149\n",
      "Edges above 99th perc: 47336\n",
      "Frac above perc: 36.62\n",
      "Average degree above perc: 317.69\n"
     ]
    }
   ],
   "source": [
    "total_nodes = len(v1)\n",
    "print('Total nodes: {}'.format(total_nodes))\n",
    "avg = np.average(v1)\n",
    "print('Average degree: {:.2f}'.format(avg))\n",
    "sumdeg = np.sum(v1)\n",
    "print('Total rid edges: {}'.format(sumdeg))\n",
    "maxdeg = max(v1)\n",
    "print('Max degree: {}'.format(maxdeg))\n",
    "perc = np.percentile(v1, 99)\n",
    "print('99-th percentile: {:.2f}'.format(perc))\n",
    "print('99-th perc/n edges: {:.4f}%'.format(perc/sumdeg*100))\n",
    "aboveperc = v1[v1>perc]\n",
    "print('Nodes above 99-th perc: {}'.format(len(aboveperc)))\n",
    "edgesaboveperc = sum(aboveperc)\n",
    "print('Edges above 99th perc: {}'.format(edgesaboveperc))\n",
    "print('Frac above perc: {:.2f}'.format(edgesaboveperc/sumdeg*100))\n",
    "avg_deg_above_perc = np.average(aboveperc)\n",
    "print('Average degree above perc: {:.2f}'.format(avg_deg_above_perc))\n"
   ]
  },
  {
   "cell_type": "code",
   "execution_count": 8,
   "metadata": {},
   "outputs": [
    {
     "name": "stderr",
     "output_type": "stream",
     "text": [
      "Loading edgelist_file.:   0%|          | 0/21396 [00:00<?, ?it/s]"
     ]
    },
    {
     "name": "stdout",
     "output_type": "stream",
     "text": [
      "# Expanding columns ['tt'].\n"
     ]
    },
    {
     "name": "stderr",
     "output_type": "stream",
     "text": [
      "Loading edgelist_file.: 100%|██████████| 21396/21396 [00:00<00:00, 23093.95it/s]\n",
      "Prepare aliased randomizer for each node: 100%|██████████| 15509/15509 [00:00<00:00, 43905.58it/s]\n"
     ]
    },
    {
     "name": "stdout",
     "output_type": "stream",
     "text": [
      "\n",
      "Overall number of lines: 4589\n",
      "Overall number of columns: 3\n",
      "Overall distinct values: 5390\n",
      "Values in Ground Truth: 1166\n",
      "Overlapping columns: 3\n",
      "Overlapping values: 324\n",
      "Unique elements in dataset 1: 1884\n",
      "Unique elements in dataset 2: 3830\n",
      "Values in common between dataset 1 and dataset 2: 324\n",
      "Fraction of values in common: 6.01%\n",
      "Dataset 1 Rows:                               1363\n",
      "Dataset 1 Columns:                               3\n",
      "Dataset 2 Rows:                               3226\n",
      "Dataset 2 Columns:                               3\n",
      "Combined Dataset Rows:                        4589\n",
      "Combined Dataset Columns:                        3\n",
      "Name: \n",
      "Type: Graph\n",
      "Number of nodes: 15509\n",
      "Number of edges: 55966\n",
      "Average degree:   7.2172\n"
     ]
    }
   ],
   "source": [
    "amazon_google = StudyUnit('amazon_google')\n",
    "\n",
    "amazon_google.print_info()\n",
    "\n",
    "amazon_google.print_graph_info()"
   ]
  },
  {
   "cell_type": "code",
   "execution_count": 9,
   "metadata": {},
   "outputs": [
    {
     "name": "stderr",
     "output_type": "stream",
     "text": [
      "Loading edgelist_file.:   0%|          | 0/224838 [00:00<?, ?it/s]"
     ]
    },
    {
     "name": "stdout",
     "output_type": "stream",
     "text": [
      "# Expanding columns ['tt'].\n"
     ]
    },
    {
     "name": "stderr",
     "output_type": "stream",
     "text": [
      "Loading edgelist_file.: 100%|██████████| 224838/224838 [00:06<00:00, 35189.87it/s]\n",
      "Prepare aliased randomizer for each node: 100%|██████████| 95569/95569 [00:02<00:00, 43125.98it/s]\n"
     ]
    },
    {
     "name": "stdout",
     "output_type": "stream",
     "text": [
      "\n",
      "Overall number of lines: 24628\n",
      "Overall number of columns: 5\n",
      "Overall distinct values: 45454\n",
      "Values in Ground Truth: 961\n",
      "Overlapping columns: 5\n",
      "Overlapping values: 1408\n",
      "Unique elements in dataset 1: 5992\n",
      "Unique elements in dataset 2: 40870\n",
      "Values in common between dataset 1 and dataset 2: 1408\n",
      "Fraction of values in common: 3.10%\n",
      "Dataset 1 Rows:                               2554\n",
      "Dataset 1 Columns:                               5\n",
      "Dataset 2 Rows:                              22074\n",
      "Dataset 2 Columns:                               5\n",
      "Combined Dataset Rows:                       24628\n",
      "Combined Dataset Columns:                        5\n",
      "Name: \n",
      "Type: Graph\n",
      "Number of nodes: 95569\n",
      "Number of edges: 526715\n",
      "Average degree:  11.0227\n"
     ]
    }
   ],
   "source": [
    "wa = StudyUnit('walmart_amazon')\n",
    "\n",
    "wa.print_info()\n",
    "\n",
    "wa.print_graph_info()"
   ]
  },
  {
   "cell_type": "code",
   "execution_count": 3,
   "metadata": {},
   "outputs": [],
   "source": [
    "def smooth_freq(freq, s=0.2, k=0.05, target=200, eps=0.01):\n",
    "    return smooth_exp(freq, eps, target, k, s)\n",
    "\n",
    "def smooth_exp(x, eps, target, k, s):\n",
    "    t = (eps/(1-s))**(k/(1-target))\n",
    "    y = (1-s) * t ** (-1/k*x + 1/k) + s    \n",
    "    return y\n",
    "\n",
    "def f_log(x, b=10):\n",
    "    log_b = np.log10(x) / np.log10(b)\n",
    "    return 1/(log_b+1)\n",
    "\n",
    "def smooth_exp_v2(x, target, s):\n",
    "    b = (1/2) ** (1/(1-target))\n",
    "    y = (1-s) * b ** (-1*x + 1) + s\n",
    "    return y\n",
    "\n",
    "def smooth_freq_v2(freq, s=0.2, target=200):\n",
    "    return smooth_exp_v2(freq,target,s)\n",
    "\n",
    "def inverse(x):\n",
    "    return 1/x\n",
    "\n",
    "def inverse_smooth(x, s):\n",
    "    y = (1/2) * ((s-1) * math.e ** (1-x) + 2 - s)\n",
    "    return y"
   ]
  },
  {
   "cell_type": "code",
   "execution_count": 39,
   "metadata": {},
   "outputs": [],
   "source": [
    "g = nx.Graph()"
   ]
  },
  {
   "cell_type": "code",
   "execution_count": 16,
   "metadata": {},
   "outputs": [
    {
     "name": "stdout",
     "output_type": "stream",
     "text": [
      "Average degree: 4.03\n",
      "Total rid edges: 432048\n",
      "0 32185\n",
      "Skewness: 166.22\n",
      "Kurtosis: 32983.98\n"
     ]
    },
    {
     "name": "stderr",
     "output_type": "stream",
     "text": [
      "/home/spoutnik23/anaconda3/lib/python3.7/site-packages/ipykernel_launcher.py:10: RuntimeWarning: divide by zero encountered in log10\n",
      "  # Remove the CWD from sys.path while we load stuff.\n"
     ]
    },
    {
     "data": {
      "image/png": "[encoded data removed]",
      "text/plain": [
       "<Figure size 720x576 with 1 Axes>"
      ]
     },
     "metadata": {
      "needs_background": "light"
     },
     "output_type": "display_data"
    },
    {
     "data": {
      "text/plain": [
       "<Figure size 720x432 with 0 Axes>"
      ]
     },
     "metadata": {},
     "output_type": "display_data"
    }
   ],
   "source": [
    "path_df = str('../pipeline/datasets/movies-aligned-master.csv')\n",
    "df = pd.read_csv(path_df, dtype=str)\n",
    "\n",
    "counts = Counter(df.values.ravel())\n",
    "if np.nan in counts:\n",
    "    counts.pop(np.nan)\n",
    "\n",
    "len(counts)\n",
    "\n",
    "v = counts.most_common()\n",
    "\n",
    "v1 = [_[1] for _ in v]\n",
    "v1 = [0]*1 + v1\n",
    "\n",
    "v1 = np.array(v1)\n",
    "vmovies = v1\n",
    "\n",
    "avg = np.average(v1)\n",
    "print('Average degree: {:.2f}'.format(avg))\n",
    "sumdeg = np.sum(v1)\n",
    "print('Total rid edges: {}'.format(sumdeg))\n",
    "\n",
    "norm_v1 = normalize(v1)\n",
    "fig = plt.figure(figsize=(10,8))\n",
    "ax = fig.gca()\n",
    "# plt.loglog(v1)\n",
    "\n",
    "plt.semilogx(norm_v1, label='normalized frequencies', ls=':')\n",
    "\n",
    "# plt.xlim([0, 1000])\n",
    "# fig = plt.figure()\n",
    "y1 = smooth_freq(v1)\n",
    "y2 = f_log(v1)\n",
    "y3 = smooth_freq(v1, target=15000, s=0.01)\n",
    "y4 = f_log(v1, 50)\n",
    "y5 = inverse_smooth(v1, 0.5)\n",
    "\n",
    "plt.semilogx(y1, label='exp target 200')\n",
    "plt.semilogx(y2, label='log10')\n",
    "plt.semilogx(y3, label='exp v2 target 15000')\n",
    "plt.semilogx(y4, label='log50')\n",
    "plt.semilogx(y5, label='inverse_smooth')\n",
    "\n",
    "plt.xlabel('Frequency rank, desc. sort')\n",
    "plt.legend()\n",
    "ax.axvline(100)\n",
    "# plt.xlim([0.1,10e5])\n",
    "fig = plt.figure(figsize=(10,6))\n",
    "print('Skewness: {:.2f}'.format(stats.skew(v1)))\n",
    "print('Kurtosis: {:.2f}'.format(stats.kurtosis(v1)))"
   ]
  },
  {
   "cell_type": "code",
   "execution_count": 23,
   "metadata": {},
   "outputs": [
    {
     "ename": "NameError",
     "evalue": "name 'smooth_freq' is not defined",
     "output_type": "error",
     "traceback": [
      "\u001b[0;31m---------------------------------------------------------------------------\u001b[0m",
      "\u001b[0;31mNameError\u001b[0m                                 Traceback (most recent call last)",
      "\u001b[0;32m<ipython-input-23-45037e69a05e>\u001b[0m in \u001b[0;36m<module>\u001b[0;34m\u001b[0m\n\u001b[0;32m----> 1\u001b[0;31m \u001b[0my3\u001b[0m \u001b[0;34m=\u001b[0m \u001b[0msmooth_freq\u001b[0m\u001b[0;34m(\u001b[0m\u001b[0mv1\u001b[0m\u001b[0;34m,\u001b[0m \u001b[0mtarget\u001b[0m\u001b[0;34m=\u001b[0m\u001b[0;36m32000\u001b[0m\u001b[0;34m,\u001b[0m \u001b[0ms\u001b[0m\u001b[0;34m=\u001b[0m\u001b[0;36m0.01\u001b[0m\u001b[0;34m)\u001b[0m\u001b[0;34m\u001b[0m\u001b[0;34m\u001b[0m\u001b[0m\n\u001b[0m\u001b[1;32m      2\u001b[0m \u001b[0mplt\u001b[0m\u001b[0;34m.\u001b[0m\u001b[0mplot\u001b[0m\u001b[0;34m(\u001b[0m\u001b[0mv1\u001b[0m\u001b[0;34m[\u001b[0m\u001b[0mv1\u001b[0m\u001b[0;34m>\u001b[0m\u001b[0;36m10000\u001b[0m\u001b[0;34m]\u001b[0m\u001b[0;34m,\u001b[0m \u001b[0my3\u001b[0m\u001b[0;34m[\u001b[0m\u001b[0mv1\u001b[0m\u001b[0;34m>\u001b[0m\u001b[0;36m10000\u001b[0m\u001b[0;34m]\u001b[0m\u001b[0;34m)\u001b[0m\u001b[0;34m\u001b[0m\u001b[0;34m\u001b[0m\u001b[0m\n",
      "\u001b[0;31mNameError\u001b[0m: name 'smooth_freq' is not defined"
     ]
    }
   ],
   "source": [
    "y3 = smooth_freq(v1, target=32000, s=0.01)\n",
    "plt.plot(v1[v1>10000], y3[v1>10000])"
   ]
  },
  {
   "cell_type": "code",
   "execution_count": null,
   "metadata": {},
   "outputs": [],
   "source": []
  },
  {
   "cell_type": "code",
   "execution_count": 17,
   "metadata": {},
   "outputs": [
    {
     "name": "stdout",
     "output_type": "stream",
     "text": [
      "Average degree: 10.58\n",
      "Total rid edges: 76650\n",
      "0 4213\n",
      "Skewness: 24.02\n",
      "Kurtosis: 700.64\n"
     ]
    },
    {
     "name": "stderr",
     "output_type": "stream",
     "text": [
      "/home/spoutnik23/anaconda3/lib/python3.7/site-packages/ipykernel_launcher.py:10: RuntimeWarning: divide by zero encountered in log10\n",
      "  # Remove the CWD from sys.path while we load stuff.\n"
     ]
    },
    {
     "data": {
      "image/png": "[encoded data removed]",
      "text/plain": [
       "<Figure size 720x576 with 1 Axes>"
      ]
     },
     "metadata": {
      "needs_background": "light"
     },
     "output_type": "display_data"
    }
   ],
   "source": [
    "path_df = str('../pipeline/datasets/anime-master.csv')\n",
    "df = pd.read_csv(path_df, dtype=str)\n",
    "\n",
    "counts = Counter(df.values.ravel())\n",
    "if np.nan in counts:\n",
    "    counts.pop(np.nan)\n",
    "\n",
    "v = counts.most_common()\n",
    "\n",
    "v1 = [_[1] for _ in v]\n",
    "v1 = [0]*1 + v1\n",
    "v1 = np.array(v1)\n",
    "\n",
    "vanime = v1\n",
    "\n",
    "avg = np.average(v1)\n",
    "print('Average degree: {:.2f}'.format(avg))\n",
    "\n",
    "sumdeg = np.sum(v1)\n",
    "print('Total rid edges: {}'.format(sumdeg))\n",
    "\n",
    "norm_v1 = normalize(v1)\n",
    "fig = plt.figure(figsize=(10,8))\n",
    "ax = fig.gca()\n",
    "# plt.loglog(v1)\n",
    "\n",
    "plt.semilogx(norm_v1, label='normalized frequencies', ls=':')\n",
    "\n",
    "# plt.xlim([0, 1000])\n",
    "# fig = plt.figure()\n",
    "y1 = smooth_freq(v1)\n",
    "y2 = f_log(v1)\n",
    "y3 = smooth_freq_v2(v1, target=10)\n",
    "y4 = f_log(v1, 5)\n",
    "y5 = inverse_smooth(v1, 0.5)\n",
    "\n",
    "plt.semilogx(y1, label='exp target 200')\n",
    "plt.semilogx(y2, label='log10')\n",
    "plt.semilogx(y3, label='exp v2 target 10')\n",
    "plt.semilogx(y4, label='log5')\n",
    "plt.semilogx(y5, label='inverse smooth')\n",
    "plt.xlabel('Frequency rank, desc. sort')\n",
    "plt.legend()\n",
    "print('Skewness: {:.2f}'.format(stats.skew(v1)))\n",
    "print('Kurtosis: {:.2f}'.format(stats.kurtosis(v1)))"
   ]
  },
  {
   "cell_type": "code",
   "execution_count": 18,
   "metadata": {},
   "outputs": [
    {
     "name": "stdout",
     "output_type": "stream",
     "text": [
      "Average degree: 2.81\n",
      "Total rid edges: 32319\n",
      "0 877\n",
      "Skewness: 27.52\n",
      "Kurtosis: 826.97\n"
     ]
    },
    {
     "name": "stderr",
     "output_type": "stream",
     "text": [
      "/home/spoutnik23/anaconda3/lib/python3.7/site-packages/ipykernel_launcher.py:10: RuntimeWarning: divide by zero encountered in log10\n",
      "  # Remove the CWD from sys.path while we load stuff.\n"
     ]
    },
    {
     "data": {
      "image/png": "[encoded data removed]",
      "text/plain": [
       "<Figure size 720x576 with 1 Axes>"
      ]
     },
     "metadata": {
      "needs_background": "light"
     },
     "output_type": "display_data"
    },
    {
     "data": {
      "text/plain": [
       "<Figure size 720x432 with 0 Axes>"
      ]
     },
     "metadata": {},
     "output_type": "display_data"
    }
   ],
   "source": [
    "path_df = str('../pipeline/datasets/dblp-master.csv')\n",
    "df = pd.read_csv(path_df, dtype=str)\n",
    "\n",
    "counts = Counter(df.values.ravel())\n",
    "\n",
    "if np.nan in counts:\n",
    "    counts.pop(np.nan)\n",
    "\n",
    "v = counts.most_common()\n",
    "\n",
    "v1 = [_[1] for _ in v]\n",
    "v1 = [0]*1 + v1\n",
    "v1 = np.array(v1)\n",
    "vdblp = v1\n",
    "\n",
    "avg = np.average(v1)\n",
    "print('Average degree: {:.2f}'.format(avg))\n",
    "sumdeg = np.sum(v1)\n",
    "print('Total rid edges: {}'.format(sumdeg))\n",
    "\n",
    "\n",
    "norm_v1 = normalize(v1)\n",
    "fig = plt.figure(figsize=(10,8))\n",
    "ax = fig.gca()\n",
    "# plt.loglog(v1)\n",
    "\n",
    "plt.semilogx(norm_v1, label='normalized frequencies', ls=':')\n",
    "\n",
    "# plt.xlim([0, 1000])\n",
    "# fig = plt.figure()\n",
    "y1 = smooth_freq(v1)\n",
    "y2 = f_log(v1)\n",
    "y3 = smooth_freq_v2(v1, target=10)\n",
    "y4 = f_log(v1, 5)\n",
    "y5 = inverse_smooth(v1, 0.5)\n",
    "\n",
    "plt.semilogx(y1, label='exp target 200')\n",
    "plt.semilogx(y2, label='log10')\n",
    "plt.semilogx(y3, label='exp v2 target 10')\n",
    "plt.semilogx(y4, label='log5')\n",
    "plt.semilogx(y5, label='inverse smooth')\n",
    "plt.xlabel('Frequency rank, desc. sort')\n",
    "# plt.semilogx(v1, y)\n",
    "\n",
    "plt.legend()\n",
    "# ax.axvline(341)\n",
    "# plt.xlim([0.1,10e5])\n",
    "\n",
    "fig = plt.figure(figsize=(10,6))\n",
    "\n",
    "print('Skewness: {:.2f}'.format(stats.skew(v1)))\n",
    "print('Kurtosis: {:.2f}'.format(stats.kurtosis(v1)))"
   ]
  },
  {
   "cell_type": "code",
   "execution_count": null,
   "metadata": {},
   "outputs": [],
   "source": [
    "fig = plt.figure(figsize=(10,6))\n",
    "\n",
    "plt.semilogx(y1*v1, label='exp target 200')\n",
    "plt.semilogx(y2*v1, label='log10')\n",
    "plt.semilogx(y3*v1, label='exp v2 target 10')\n",
    "plt.semilogx(y4*v1, label='log5')\n",
    "plt.semilogx(v1, label='unweighted')\n",
    "plt.legend()"
   ]
  },
  {
   "cell_type": "code",
   "execution_count": null,
   "metadata": {},
   "outputs": [],
   "source": [
    "plt.semilogx(normalize(vmovies), label='movies')\n",
    "plt.semilogx(normalize(vanime), label='anime')\n",
    "plt.semilogx(normalize(vdblp), label='dblp')\n",
    "plt.legend()"
   ]
  },
  {
   "cell_type": "code",
   "execution_count": 210,
   "metadata": {},
   "outputs": [
    {
     "data": {
      "image/png": "[encoded data removed]",
      "text/plain": [
       "<Figure size 432x288 with 1 Axes>"
      ]
     },
     "metadata": {
      "needs_background": "light"
     },
     "output_type": "display_data"
    }
   ],
   "source": [
    "_ = plt.hist(v1, bins=100, range=(1, 40))\n",
    "_ = plt.xticks(np.arange(0, 40, 5))"
   ]
  },
  {
   "cell_type": "code",
   "execution_count": 222,
   "metadata": {},
   "outputs": [
    {
     "data": {
      "text/plain": [
       "CumfreqResult(cumcount=array([11481., 11493., 11495., 11495., 11496., 11503., 11507., 11508.,\n",
       "       11510., 11511.]), lowerlimit=-48.72222222222222, binsize=97.44444444444443, extrapoints=0)"
      ]
     },
     "execution_count": 222,
     "metadata": {},
     "output_type": "execute_result"
    }
   ],
   "source": [
    "stats.cumfreq(v1)"
   ]
  },
  {
   "cell_type": "code",
   "execution_count": 22,
   "metadata": {},
   "outputs": [],
   "source": [
    "xax = np.linspace(99.5,100, num=10)\n",
    "perc = np.percentile(v1, xax)"
   ]
  },
  {
   "cell_type": "code",
   "execution_count": 24,
   "metadata": {},
   "outputs": [
    {
     "data": {
      "text/plain": [
       "(90, 100)"
      ]
     },
     "execution_count": 24,
     "metadata": {},
     "output_type": "execute_result"
    },
    {
     "data": {
      "image/png": "[encoded data removed]",
      "text/plain": [
       "<Figure size 432x288 with 1 Axes>"
      ]
     },
     "metadata": {
      "needs_background": "light"
     },
     "output_type": "display_data"
    }
   ],
   "source": [
    "plt.plot(xax,perc, marker='o')\n",
    "plt.xlim([90, 100])"
   ]
  },
  {
   "cell_type": "code",
   "execution_count": 348,
   "metadata": {},
   "outputs": [
    {
     "data": {
      "text/plain": [
       "25.0"
      ]
     },
     "execution_count": 348,
     "metadata": {},
     "output_type": "execute_result"
    }
   ],
   "source": [
    "np.percentile(v1, 99)"
   ]
  },
  {
   "cell_type": "code",
   "execution_count": 344,
   "metadata": {},
   "outputs": [
    {
     "data": {
      "text/plain": [
       "8.911166805903649e-06"
      ]
     },
     "execution_count": 344,
     "metadata": {},
     "output_type": "execute_result"
    }
   ],
   "source": [
    "np.percentile(v1, 90)/len(df.values.ravel())"
   ]
  },
  {
   "cell_type": "code",
   "execution_count": 322,
   "metadata": {},
   "outputs": [
    {
     "data": {
      "text/plain": [
       "[<matplotlib.lines.Line2D at 0x7f09e3d87a58>]"
      ]
     },
     "execution_count": 322,
     "metadata": {},
     "output_type": "execute_result"
    },
    {
     "data": {
      "image/png": "[encoded data removed]",
      "text/plain": [
       "<Figure size 432x288 with 1 Axes>"
      ]
     },
     "metadata": {
      "needs_background": "light"
     },
     "output_type": "display_data"
    }
   ],
   "source": [
    "plt.semilogx(v1)"
   ]
  },
  {
   "cell_type": "code",
   "execution_count": 247,
   "metadata": {},
   "outputs": [
    {
     "data": {
      "text/plain": [
       "[<matplotlib.lines.Line2D at 0x7f09e4e91a90>]"
      ]
     },
     "execution_count": 247,
     "metadata": {},
     "output_type": "execute_result"
    },
    {
     "data": {
      "image/png": "[encoded data removed]",
      "text/plain": [
       "<Figure size 432x288 with 1 Axes>"
      ]
     },
     "metadata": {
      "needs_background": "light"
     },
     "output_type": "display_data"
    }
   ],
   "source": [
    "v1 = sorted(v1, reverse=True)\n",
    "plt.semilogx(v1)"
   ]
  },
  {
   "cell_type": "code",
   "execution_count": 7,
   "metadata": {},
   "outputs": [
    {
     "name": "stdout",
     "output_type": "stream",
     "text": [
      "Dataset: ../pipeline/datasets/test-eq/cleaned/ACM-master.csv\n",
      "Total nodes: 6534\n",
      "Average degree: 1.75\n",
      "Total rid edges: 11456\n",
      "Max degree: 797\n",
      "99-th percentile: 2.00\n",
      "99-th perc/n edges: 0.0175%\n",
      "Nodes above 99-th perc: 64\n",
      "Edges above 99th perc: 4824\n",
      "Frac above perc: 42.11\n",
      "Average degree above perc: 75.38\n",
      "\n",
      "Dataset: ../pipeline/datasets/test-eq/cleaned/itunes-master.csv\n",
      "Total nodes: 15031\n",
      "Average degree: 5.03\n",
      "Total rid edges: 75609\n",
      "Max degree: 4979\n",
      "99-th percentile: 52.00\n",
      "99-th perc/n edges: 0.0688%\n",
      "Nodes above 99-th perc: 142\n",
      "Edges above 99th perc: 25416\n",
      "Frac above perc: 33.62\n",
      "Average degree above perc: 178.99\n",
      "\n",
      "Dataset: ../pipeline/datasets/test-eq/cleaned/adult-master.csv\n",
      "Total nodes: 22055\n",
      "Average degree: 22.14\n",
      "Total rid edges: 488400\n",
      "Max degree: 60890\n",
      "99-th percentile: 22.00\n",
      "99-th perc/n edges: 0.0045%\n",
      "Nodes above 99-th perc: 219\n",
      "Edges above 99th perc: 454481\n",
      "Frac above perc: 93.06\n",
      "Average degree above perc: 2075.26\n",
      "\n",
      "Dataset: ../pipeline/datasets/test-eq/cleaned/anime_planet-master.csv\n",
      "Total nodes: 10211\n",
      "Average degree: 3.11\n",
      "Total rid edges: 31722\n",
      "Max degree: 1854\n",
      "99-th percentile: 35.00\n",
      "99-th perc/n edges: 0.1103%\n",
      "Nodes above 99-th perc: 98\n",
      "Edges above 99th perc: 15085\n",
      "Frac above perc: 47.55\n",
      "Average degree above perc: 153.93\n",
      "\n",
      "Dataset: ../pipeline/datasets/test-eq/cleaned/DBLP2-master.csv\n",
      "Total nodes: 7455\n",
      "Average degree: 1.75\n",
      "Total rid edges: 13080\n",
      "Max degree: 877\n",
      "99-th percentile: 2.00\n",
      "99-th perc/n edges: 0.0153%\n",
      "Nodes above 99-th perc: 66\n",
      "Edges above 99th perc: 5571\n",
      "Frac above perc: 42.59\n",
      "Average degree above perc: 84.41\n",
      "\n",
      "Dataset: ../pipeline/datasets/test-eq/cleaned/zagats-master.csv\n",
      "Total nodes: 1638\n",
      "Average degree: 1.41\n",
      "Total rid edges: 2317\n",
      "Max degree: 88\n",
      "99-th percentile: 10.63\n",
      "99-th perc/n edges: 0.4588%\n",
      "Nodes above 99-th perc: 17\n",
      "Edges above 99th perc: 416\n",
      "Frac above perc: 17.95\n",
      "Average degree above perc: 24.47\n",
      "\n",
      "Dataset: ../pipeline/datasets/test-eq/cleaned/amazon_music-master.csv\n",
      "Total nodes: 106640\n",
      "Average degree: 5.18\n",
      "Total rid edges: 552149\n",
      "Max degree: 29570\n",
      "99-th percentile: 67.00\n",
      "99-th perc/n edges: 0.0121%\n",
      "Nodes above 99-th perc: 1064\n",
      "Edges above 99th perc: 273414\n",
      "Frac above perc: 49.52\n",
      "Average degree above perc: 256.97\n",
      "\n",
      "Dataset: ../pipeline/datasets/test-eq/cleaned/my_anime_list-master.csv\n",
      "Total nodes: 12369\n",
      "Average degree: 2.58\n",
      "Total rid edges: 31972\n",
      "Max degree: 1912\n",
      "99-th percentile: 31.00\n",
      "99-th perc/n edges: 0.0970%\n",
      "Nodes above 99-th perc: 121\n",
      "Edges above 99th perc: 14136\n",
      "Frac above perc: 44.21\n",
      "Average degree above perc: 116.83\n",
      "\n",
      "Dataset: ../pipeline/datasets/test-eq/cleaned/fodors-master.csv\n",
      "Total nodes: 2697\n",
      "Average degree: 1.38\n",
      "Total rid edges: 3731\n",
      "Max degree: 250\n",
      "99-th percentile: 3.04\n",
      "99-th perc/n edges: 0.0815%\n",
      "Nodes above 99-th perc: 27\n",
      "Edges above 99th perc: 1029\n",
      "Frac above perc: 27.58\n",
      "Average degree above perc: 38.11\n",
      "\n"
     ]
    }
   ],
   "source": [
    "dsets = []\n",
    "dr = '../pipeline/datasets/test-eq/cleaned/'\n",
    "for f in os.listdir(dr):\n",
    "    dsets.append(dr + f)\n",
    "\n",
    "names = [os.path.basename(ds) for ds in dsets]\n",
    "\n",
    "counts_list = []\n",
    "\n",
    "for ds in dsets:\n",
    "    df = pd.read_csv(ds, dtype=str)\n",
    "\n",
    "    counts = Counter(df.values.ravel())\n",
    "    if np.nan in counts:\n",
    "        counts.pop(np.nan)\n",
    "\n",
    "    len(counts)\n",
    "\n",
    "    v = counts.most_common()\n",
    "\n",
    "    v1 = [_[1] for _ in v]\n",
    "    v1 = [0]*1 + v1\n",
    "\n",
    "    v1 = np.array(v1)\n",
    "    counts_list.append(v1)\n",
    "    \n",
    "    print('Dataset: {}'.format(ds))\n",
    "    total_nodes = len(v1)\n",
    "    print('Total nodes: {}'.format(total_nodes))\n",
    "    avg = np.average(v1)\n",
    "    print('Average degree: {:.2f}'.format(avg))\n",
    "    sumdeg = np.sum(v1)\n",
    "    print('Total rid edges: {}'.format(sumdeg))\n",
    "    maxdeg = max(v1)\n",
    "    print('Max degree: {}'.format(maxdeg))\n",
    "    perc = np.percentile(v1, 99)\n",
    "    print('99-th percentile: {:.2f}'.format(perc))\n",
    "    print('99-th perc/n edges: {:.4f}%'.format(perc/sumdeg*100))\n",
    "    aboveperc = v1[v1>perc]\n",
    "    print('Nodes above 99-th perc: {}'.format(len(aboveperc)))\n",
    "    edgesaboveperc = sum(aboveperc)\n",
    "    print('Edges above 99th perc: {}'.format(edgesaboveperc))\n",
    "    print('Frac above perc: {:.2f}'.format(edgesaboveperc/sumdeg*100))\n",
    "    avg_deg_above_perc = np.average(aboveperc)\n",
    "    print('Average degree above perc: {:.2f}'.format(avg_deg_above_perc))\n",
    "    \n",
    "    print('')"
   ]
  },
  {
   "cell_type": "code",
   "execution_count": 72,
   "metadata": {},
   "outputs": [
    {
     "name": "stdout",
     "output_type": "stream",
     "text": [
      "Dataset: ../pipeline/datasets/main/anime-master.csv\n",
      "Total nodes: 7246\n",
      "Average degree: 10.58\n",
      "Total rid edges: 76650\n",
      "Max degree: 4213\n",
      "99-th percentile: 195.00\n",
      "99-th perc/n edges: 0.2544%\n",
      "Nodes above 99-th perc: 71\n",
      "Edges above 99th perc: 54256\n",
      "Frac above perc: 70.78\n",
      "Average degree above perc: 764.17\n",
      "\n",
      "Dataset: ../pipeline/datasets/main/movies-aligned-master.csv\n",
      "Total nodes: 107261\n",
      "Average degree: 4.03\n",
      "Total rid edges: 432048\n",
      "Max degree: 32185\n",
      "99-th percentile: 25.00\n",
      "99-th perc/n edges: 0.0058%\n",
      "Nodes above 99-th perc: 1034\n",
      "Edges above 99th perc: 223950\n",
      "Frac above perc: 51.83\n",
      "Average degree above perc: 216.59\n",
      "\n",
      "Dataset: ../pipeline/datasets/main/dblp-master.csv\n",
      "Total nodes: 11511\n",
      "Average degree: 2.81\n",
      "Total rid edges: 32319\n",
      "Max degree: 877\n",
      "99-th percentile: 18.00\n",
      "99-th perc/n edges: 0.0557%\n",
      "Nodes above 99-th perc: 113\n",
      "Edges above 99th perc: 12811\n",
      "Frac above perc: 39.64\n",
      "Average degree above perc: 113.37\n",
      "\n",
      "Dataset: ../pipeline/datasets/main/corleone-master.csv\n",
      "Total nodes: 223425\n",
      "Average degree: 1.59\n",
      "Total rid edges: 354740\n",
      "Max degree: 2374\n",
      "99-th percentile: 7.00\n",
      "99-th perc/n edges: 0.0020%\n",
      "Nodes above 99-th perc: 2120\n",
      "Edges above 99th perc: 97745\n",
      "Frac above perc: 27.55\n",
      "Average degree above perc: 46.11\n",
      "\n",
      "Dataset: ../pipeline/datasets/main/bikes-master.csv\n",
      "Total nodes: 16041\n",
      "Average degree: 7.74\n",
      "Total rid edges: 124099\n",
      "Max degree: 13233\n",
      "99-th percentile: 67.00\n",
      "99-th perc/n edges: 0.0540%\n",
      "Nodes above 99-th perc: 160\n",
      "Edges above 99th perc: 95695\n",
      "Frac above perc: 77.11\n",
      "Average degree above perc: 598.09\n",
      "\n"
     ]
    }
   ],
   "source": [
    "dsets = []\n",
    "dr = '../pipeline/datasets/main/'\n",
    "for f in os.listdir(dr):\n",
    "    dsets.append(dr + f)\n",
    "\n",
    "names = [os.path.basename(ds) for ds in dsets]\n",
    "\n",
    "counts_list = []\n",
    "\n",
    "for ds in dsets:\n",
    "    df = pd.read_csv(ds, dtype=str)\n",
    "\n",
    "    counts = Counter(df.values.ravel())\n",
    "    if np.nan in counts:\n",
    "        counts.pop(np.nan)\n",
    "\n",
    "    len(counts)\n",
    "\n",
    "    v = counts.most_common()\n",
    "\n",
    "    v1 = [_[1] for _ in v]\n",
    "    v1 = [0]*1 + v1\n",
    "\n",
    "    v1 = np.array(v1)\n",
    "    counts_list.append(v1)\n",
    "    \n",
    "    print('Dataset: {}'.format(ds))\n",
    "    total_nodes = len(v1)\n",
    "    print('Total nodes: {}'.format(total_nodes))\n",
    "    avg = np.average(v1)\n",
    "    print('Average degree: {:.2f}'.format(avg))\n",
    "    sumdeg = np.sum(v1)\n",
    "    print('Total rid edges: {}'.format(sumdeg))\n",
    "    maxdeg = max(v1)\n",
    "    print('Max degree: {}'.format(maxdeg))\n",
    "    perc = np.percentile(v1, 99)\n",
    "    print('99-th percentile: {:.2f}'.format(perc))\n",
    "    print('99-th perc/n edges: {:.4f}%'.format(perc/sumdeg*100))\n",
    "    aboveperc = v1[v1>perc]\n",
    "    print('Nodes above 99-th perc: {}'.format(len(aboveperc)))\n",
    "    edgesaboveperc = sum(aboveperc)\n",
    "    print('Edges above 99th perc: {}'.format(edgesaboveperc))\n",
    "    print('Frac above perc: {:.2f}'.format(edgesaboveperc/sumdeg*100))\n",
    "    avg_deg_above_perc = np.average(aboveperc)\n",
    "    print('Average degree above perc: {:.2f}'.format(avg_deg_above_perc))\n",
    "    \n",
    "    print('')"
   ]
  },
  {
   "cell_type": "code",
   "execution_count": 33,
   "metadata": {},
   "outputs": [
    {
     "name": "stdout",
     "output_type": "stream",
     "text": [
      "Dataset: ../pipeline/datasets/movies-aligned-master.csv\n",
      "Total nodes: 107261\n",
      "Total nodes with rids: 157136\n",
      "Average degree: 4.03\n",
      "Total rid edges: 432048\n",
      "Max degree: 32185\n",
      "99-th percentile: 7.0\n",
      "99-th perc/n edges: 0.001620%\n",
      "Nodes above 99-th perc: 5348\n",
      "Edges above 99th perc: 280123\n",
      "Frac above perc: 64.84\n",
      "Average degree above perc: 52.38\n",
      "\n",
      "Dataset: ../pipeline/datasets/anime-master.csv\n",
      "Total nodes: 7246\n",
      "Total nodes with rids: 15246\n",
      "Average degree: 10.58\n",
      "Total rid edges: 76650\n",
      "Max degree: 4213\n",
      "99-th percentile: 10.0\n",
      "99-th perc/n edges: 0.013046%\n",
      "Nodes above 99-th perc: 354\n",
      "Edges above 99th perc: 67271\n",
      "Frac above perc: 87.76\n",
      "Average degree above perc: 190.03\n",
      "\n",
      "Dataset: ../pipeline/datasets/dblp-master.csv\n",
      "Total nodes: 11511\n",
      "Total nodes with rids: 16421\n",
      "Average degree: 2.81\n",
      "Total rid edges: 32319\n",
      "Max degree: 877\n",
      "99-th percentile: 5.0\n",
      "99-th perc/n edges: 0.015471%\n",
      "Nodes above 99-th perc: 492\n",
      "Edges above 99th perc: 16221\n",
      "Frac above perc: 50.19\n",
      "Average degree above perc: 32.97\n",
      "\n",
      "Dataset: ../pipeline/datasets/corleone-master.csv\n",
      "Total nodes: 223425\n",
      "Total nodes with rids: 290304\n",
      "Average degree: 1.59\n",
      "Total rid edges: 354740\n",
      "Max degree: 2374\n",
      "99-th percentile: 2.0\n",
      "99-th perc/n edges: 0.000564%\n",
      "Nodes above 99-th perc: 10005\n",
      "Edges above 99th perc: 128994\n",
      "Frac above perc: 36.36\n",
      "Average degree above perc: 12.89\n",
      "\n",
      "Dataset: ../pipeline/datasets/bikes-master.csv\n",
      "Total nodes: 16041\n",
      "Total nodes with rids: 29830\n",
      "Average degree: 7.74\n",
      "Total rid edges: 124099\n",
      "Max degree: 13233\n",
      "99-th percentile: 5.0\n",
      "99-th perc/n edges: 0.004029%\n",
      "Nodes above 99-th perc: 749\n",
      "Edges above 99th perc: 107507\n",
      "Frac above perc: 86.63\n",
      "Average degree above perc: 143.53\n",
      "\n"
     ]
    }
   ],
   "source": [
    "dsets = [\n",
    "    str('../pipeline/datasets/movies-aligned-master.csv'),\n",
    "    str('../pipeline/datasets/anime-master.csv'),\n",
    "    str('../pipeline/datasets/dblp-master.csv'),\n",
    "    str('../pipeline/datasets/corleone-master.csv'),\n",
    "    str('../pipeline/datasets/bikes-master.csv'),\n",
    "    \n",
    "]\n",
    "\n",
    "names = [os.path.basename(ds) for ds in dsets]\n",
    "\n",
    "counts_list = []\n",
    "\n",
    "for ds in dsets:\n",
    "    df = pd.read_csv(ds, dtype=str)\n",
    "\n",
    "    counts = Counter(df.values.ravel())\n",
    "    if np.nan in counts:\n",
    "        counts.pop(np.nan)\n",
    "\n",
    "    len(counts)\n",
    "\n",
    "    v = counts.most_common()\n",
    "\n",
    "    v1 = [_[1] for _ in v]\n",
    "    v1 = [0]*1 + v1\n",
    "\n",
    "    v1 = np.array(v1)\n",
    "    counts_list.append(v1)\n",
    "    \n",
    "    print('Dataset: {}'.format(ds))\n",
    "    total_nodes = len(v1)\n",
    "    total_nodes_with_rids = len(v1) + len(df)\n",
    "    print('Total nodes: {}'.format(total_nodes))\n",
    "    print('Total nodes with rids: {}'.format(total_nodes_with_rids))\n",
    "    avg = np.average(v1)\n",
    "    print('Average degree: {:.2f}'.format(avg))\n",
    "    sumdeg = np.sum(v1)\n",
    "    print('Total rid edges: {}'.format(sumdeg))\n",
    "    maxdeg = max(v1)\n",
    "    print('Max degree: {}'.format(maxdeg))\n",
    "    perc = np.percentile(v1, 95)\n",
    "    print('99-th percentile: {}'.format(perc))\n",
    "    print('99-th perc/n edges: {:.6f}%'.format(perc/sumdeg*100))\n",
    "    aboveperc = v1[v1>perc]\n",
    "    print('Nodes above 99-th perc: {}'.format(len(aboveperc)))\n",
    "    edgesaboveperc = sum(aboveperc)\n",
    "    print('Edges above 99th perc: {}'.format(edgesaboveperc))\n",
    "    print('Frac above perc: {:.2f}'.format(edgesaboveperc/sumdeg*100))\n",
    "    avg_deg_above_perc = np.average(aboveperc)\n",
    "    print('Average degree above perc: {:.2f}'.format(avg_deg_above_perc))\n",
    "    \n",
    "    print('')"
   ]
  },
  {
   "cell_type": "code",
   "execution_count": 139,
   "metadata": {},
   "outputs": [
    {
     "data": {
      "text/plain": [
       "<matplotlib.legend.Legend at 0x7fc369f4f780>"
      ]
     },
     "execution_count": 139,
     "metadata": {},
     "output_type": "execute_result"
    },
    {
     "name": "stderr",
     "output_type": "stream",
     "text": [
      "/home/spoutnik23/anaconda3/lib/python3.7/site-packages/IPython/core/events.py:88: UserWarning: Creating legend with loc=\"best\" can be slow with large amounts of data.\n",
      "  func(*args, **kwargs)\n",
      "/home/spoutnik23/anaconda3/lib/python3.7/site-packages/IPython/core/pylabtools.py:128: UserWarning: Creating legend with loc=\"best\" can be slow with large amounts of data.\n",
      "  fig.canvas.print_figure(bytes_io, **kw)\n"
     ]
    },
    {
     "data": {
      "image/png": "[encoded data removed]",
      "text/plain": [
       "<Figure size 432x288 with 1 Axes>"
      ]
     },
     "metadata": {
      "needs_background": "light"
     },
     "output_type": "display_data"
    }
   ],
   "source": [
    "for l in range(len(counts_list)):\n",
    "    plt.loglog(counts_list[l], label=names[l])\n",
    "plt.legend()"
   ]
  },
  {
   "cell_type": "code",
   "execution_count": 15,
   "metadata": {},
   "outputs": [],
   "source": [
    "x = np.array([71, 77, 52, 40])\n",
    "y = np.array([10, 10, 20, 1000])"
   ]
  },
  {
   "cell_type": "code",
   "execution_count": 17,
   "metadata": {},
   "outputs": [
    {
     "data": {
      "text/plain": [
       "array([-0.11172607, 10.33072836])"
      ]
     },
     "execution_count": 17,
     "metadata": {},
     "output_type": "execute_result"
    }
   ],
   "source": [
    "np.polyfit(x, np.log(y), 1)"
   ]
  },
  {
   "cell_type": "code",
   "execution_count": 18,
   "metadata": {},
   "outputs": [],
   "source": [
    "import scipy"
   ]
  },
  {
   "cell_type": "code",
   "execution_count": 26,
   "metadata": {},
   "outputs": [],
   "source": [
    "popt, pcov = scipy.optimize.curve_fit(lambda t,a,b: a+b*np.log(t,), x,y)"
   ]
  },
  {
   "cell_type": "code",
   "execution_count": 30,
   "metadata": {},
   "outputs": [],
   "source": [
    "def func(x, a, b):\n",
    "    return a * np.exp(-b * x)\n"
   ]
  },
  {
   "cell_type": "code",
   "execution_count": 32,
   "metadata": {},
   "outputs": [
    {
     "name": "stderr",
     "output_type": "stream",
     "text": [
      "/home/spoutnik23/anaconda3/lib/python3.7/site-packages/ipykernel_launcher.py:2: RuntimeWarning: overflow encountered in exp\n",
      "  \n",
      "No handles with labels found to put in legend.\n"
     ]
    },
    {
     "data": {
      "image/png": "[encoded data removed]",
      "text/plain": [
       "<Figure size 432x288 with 1 Axes>"
      ]
     },
     "metadata": {
      "needs_background": "light"
     },
     "output_type": "display_data"
    }
   ],
   "source": [
    "plt.plot(x, func(x, *popt), 'g--',)\n",
    "#          label='fit: a=%5.3f, b=%5.3f, c=%5.3f' % tuple(popt))\n",
    "plt.xlabel('x')\n",
    "plt.ylabel('y')\n",
    "plt.legend()\n",
    "plt.show()\n"
   ]
  },
  {
   "cell_type": "code",
   "execution_count": 40,
   "metadata": {},
   "outputs": [
    {
     "data": {
      "text/plain": [
       "0.1678352057976351"
      ]
     },
     "execution_count": 40,
     "metadata": {},
     "output_type": "execute_result"
    }
   ],
   "source": [
    "np.mean([15246/119e3, 16421/71e3, 29830/207e3])"
   ]
  },
  {
   "cell_type": "code",
   "execution_count": 43,
   "metadata": {},
   "outputs": [
    {
     "data": {
      "text/plain": [
       "936251.7193768302"
      ]
     },
     "execution_count": 43,
     "metadata": {},
     "output_type": "execute_result"
    }
   ],
   "source": [
    "157136/0.1678352057976351"
   ]
  },
  {
   "cell_type": "code",
   "execution_count": 44,
   "metadata": {},
   "outputs": [
    {
     "data": {
      "text/plain": [
       "6.93932282936641"
      ]
     },
     "execution_count": 44,
     "metadata": {},
     "output_type": "execute_result"
    }
   ],
   "source": [
    "207e3/29830"
   ]
  },
  {
   "cell_type": "code",
   "execution_count": 47,
   "metadata": {},
   "outputs": [
    {
     "data": {
      "text/plain": [
       "1090.41743211532"
      ]
     },
     "execution_count": 47,
     "metadata": {},
     "output_type": "execute_result"
    }
   ],
   "source": [
    "157136*6.93932282936641/1000"
   ]
  },
  {
   "cell_type": "code",
   "execution_count": 50,
   "metadata": {},
   "outputs": [
    {
     "data": {
      "text/plain": [
       "366.168"
      ]
     },
     "execution_count": 50,
     "metadata": {},
     "output_type": "execute_result"
    }
   ],
   "source": [
    "8*5*60*152570/1000000"
   ]
  },
  {
   "cell_type": "code",
   "execution_count": 25,
   "metadata": {},
   "outputs": [],
   "source": [
    "import sys\n",
    "import numpy as np"
   ]
  },
  {
   "cell_type": "code",
   "execution_count": 27,
   "metadata": {},
   "outputs": [],
   "source": [
    "sizestr = sys.getsizeof(np.array(['a']*60*5000000))"
   ]
  },
  {
   "cell_type": "code",
   "execution_count": 28,
   "metadata": {},
   "outputs": [
    {
     "data": {
      "text/plain": [
       "1200.000096"
      ]
     },
     "execution_count": 28,
     "metadata": {},
     "output_type": "execute_result"
    }
   ],
   "source": [
    "sizestr/1000000"
   ]
  },
  {
   "cell_type": "code",
   "execution_count": 23,
   "metadata": {},
   "outputs": [
    {
     "data": {
      "text/plain": [
       "0.75"
      ]
     },
     "execution_count": 23,
     "metadata": {},
     "output_type": "execute_result"
    }
   ],
   "source": [
    "inverse_smooth(99, 0.5)"
   ]
  },
  {
   "cell_type": "code",
   "execution_count": 6,
   "metadata": {},
   "outputs": [],
   "source": [
    "def inverse_smooth(x, s):\n",
    "    y =  1/2*(-(1+s) ** (1-x) + 2)\n",
    "    return y"
   ]
  },
  {
   "cell_type": "code",
   "execution_count": 14,
   "metadata": {},
   "outputs": [
    {
     "data": {
      "text/plain": [
       "(0, 20)"
      ]
     },
     "execution_count": 14,
     "metadata": {},
     "output_type": "execute_result"
    },
    {
     "data": {
      "image/png": "[encoded data removed]",
      "text/plain": [
       "<Figure size 432x288 with 1 Axes>"
      ]
     },
     "metadata": {
      "needs_background": "light"
     },
     "output_type": "display_data"
    }
   ],
   "source": [
    "plt.plot(inverse_smooth(np.arange(0, 1000), s=0.1))\n",
    "# plt.ylim([0,1])\n",
    "plt.xlim([0,20])"
   ]
  },
  {
   "cell_type": "code",
   "execution_count": null,
   "metadata": {},
   "outputs": [],
   "source": []
  }
 ],
 "metadata": {
  "kernelspec": {
   "display_name": "PyCharm (EmbDI)",
   "language": "python",
   "name": "pycharm-f75c726a"
  },
  "language_info": {
   "codemirror_mode": {
    "name": "ipython",
    "version": 3
   },
   "file_extension": ".py",
   "mimetype": "text/x-python",
   "name": "python",
   "nbconvert_exporter": "python",
   "pygments_lexer": "ipython3",
   "version": "3.7.3"
  },
  "pycharm": {
   "stem_cell": {
    "cell_type": "raw",
    "metadata": {
     "collapsed": false
    },
    "source": []
   }
  }
 },
 "nbformat": 4,
 "nbformat_minor": 4
}
